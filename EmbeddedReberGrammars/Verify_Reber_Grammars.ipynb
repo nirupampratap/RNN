{
 "cells": [
  {
   "cell_type": "markdown",
   "metadata": {},
   "source": [
    "### Reber Grammar Detection\n",
    "#### Notebook Author: Nirupam Purushothama\n",
    "\n",
    "**About:** Use RNN to verify if the given string belongs to the Reber Grammar or not\n",
    "\n",
    "What is Reber Grammar? [Read this](http://www.willamette.edu/~gorr/classes/cs449/reber.html)\n",
    "\n",
    "\n",
    "**Reference Book:** Hands-on Machine Learning with Scikit-Learn and TensorFlow - Aurelien Geron\n",
    "\n",
    "This is an exercise problem from the book. All code is taken from [handson tutorial code](https://github.com/ageron/handson-ml/)"
   ]
  },
  {
   "cell_type": "code",
   "execution_count": 2,
   "metadata": {},
   "outputs": [],
   "source": [
    "import tensorflow as tf"
   ]
  },
  {
   "cell_type": "code",
   "execution_count": 1,
   "metadata": {},
   "outputs": [],
   "source": [
    "# To support both python 2 and python 3\n",
    "from __future__ import division, print_function, unicode_literals\n",
    "\n",
    "# Common imports\n",
    "import numpy as np\n",
    "import os\n",
    "\n",
    "# to make this notebook's output stable across runs\n",
    "def reset_graph(seed=42):\n",
    "    tf.reset_default_graph()\n",
    "    tf.set_random_seed(seed)\n",
    "    np.random.seed(seed)\n",
    "\n",
    "# To plot pretty figures\n",
    "%matplotlib inline\n",
    "import matplotlib\n",
    "import matplotlib.pyplot as plt\n",
    "plt.rcParams['axes.labelsize'] = 14\n",
    "plt.rcParams['xtick.labelsize'] = 12\n",
    "plt.rcParams['ytick.labelsize'] = 12\n",
    "\n",
    "# Where to save the figures\n",
    "PROJECT_ROOT_DIR = \".\"\n",
    "CHAPTER_ID = \"rnn\"\n",
    "\n",
    "def save_fig(fig_id, tight_layout=True):\n",
    "    path = os.path.join(PROJECT_ROOT_DIR, \"images\", CHAPTER_ID, fig_id + \".png\")\n",
    "    print(\"Saving figure\", fig_id)\n",
    "    if tight_layout:\n",
    "        plt.tight_layout()\n",
    "    plt.savefig(path, format='png', dpi=300)"
   ]
  },
  {
   "cell_type": "markdown",
   "metadata": {},
   "source": [
    "#### 1. Generating the following Reber Grammar\n",
    "<img width=\"400\" src=\"https://cnl.salk.edu/~schraudo/teach/NNcourse/figs/reber.gif\"/>"
   ]
  },
  {
   "cell_type": "code",
   "execution_count": 3,
   "metadata": {},
   "outputs": [],
   "source": [
    "# Generate the grammar string.\n",
    "\n",
    "np.random.seed(42)\n",
    "\n",
    "default_reber_grammar = [\n",
    "    [(\"B\", 1)],           # (state 0) =B=>(state 1)\n",
    "    [(\"T\", 2), (\"P\", 3)], # (state 1) =T=>(state 2) or =P=>(state 3)\n",
    "    [(\"S\", 2), (\"X\", 4)], # (state 2) =S=>(state 2) or =X=>(state 4)\n",
    "    [(\"T\", 3), (\"V\", 5)], # and so on...\n",
    "    [(\"X\", 3), (\"S\", 6)],\n",
    "    [(\"P\", 4), (\"V\", 6)],\n",
    "    [(\"E\", None)]]        # (state 6) =E=>(terminal state)\n",
    "\n",
    "embedded_reber_grammar = [\n",
    "    [(\"B\", 1)],\n",
    "    [(\"T\", 2), (\"P\", 3)],\n",
    "    [(default_reber_grammar, 4)],\n",
    "    [(default_reber_grammar, 5)],\n",
    "    [(\"T\", 6)],\n",
    "    [(\"P\", 6)],\n",
    "    [(\"E\", None)]]\n",
    "\n",
    "def generate_string(grammar):\n",
    "    state = 0\n",
    "    output = []\n",
    "    while state is not None:\n",
    "        index = np.random.randint(len(grammar[state]))\n",
    "        production, state = grammar[state][index]\n",
    "        if isinstance(production, list):\n",
    "            production = generate_string(grammar=production)\n",
    "        output.append(production)\n",
    "    return \"\".join(output)"
   ]
  },
  {
   "cell_type": "code",
   "execution_count": 4,
   "metadata": {},
   "outputs": [],
   "source": [
    "def generate_corrupted_string(grammar, chars=\"BEPSTVX\"):\n",
    "    good_string = generate_string(grammar)\n",
    "    index = np.random.randint(len(good_string))\n",
    "    good_char = good_string[index]\n",
    "    bad_char = np.random.choice(sorted(set(chars) - set(good_char)))\n",
    "    return good_string[:index] + bad_char + good_string[index + 1:]"
   ]
  },
  {
   "cell_type": "code",
   "execution_count": 5,
   "metadata": {},
   "outputs": [],
   "source": [
    "def string_to_one_hot_vectors(string, n_steps, chars=\"BEPSTVX\"):\n",
    "    char_to_index = {char: index for index, char in enumerate(chars)}\n",
    "    output = np.zeros((n_steps, len(chars)), dtype=np.int32)\n",
    "    for index, char in enumerate(string):\n",
    "        output[index, char_to_index[char]] = 1.\n",
    "    return output"
   ]
  },
  {
   "cell_type": "code",
   "execution_count": 6,
   "metadata": {},
   "outputs": [],
   "source": [
    "def generate_dataset(size):\n",
    "    good_strings = [generate_string(embedded_reber_grammar)\n",
    "                    for _ in range(size // 2)]\n",
    "    bad_strings = [generate_corrupted_string(embedded_reber_grammar)\n",
    "                   for _ in range(size - size // 2)]\n",
    "    all_strings = good_strings + bad_strings\n",
    "    \n",
    "    # THIS IS THE KEY POINT. SEE THAT THE N_STEPS IS SET TO THE MAXIMUM OF THE STRING LENGTHS GENERATED\n",
    "    # THIS IS IMPORTANT BECAUSE THAT IS THE NUMBER OF RNN TIME LEVELS THAT THE NETWORK WILL HAVE.\n",
    "    # NOW THIS MEANS THAT FOR A NLP MODEL WE NEED TO SET THE LEVELS TO THE MAXIMUM STRING LENGTH.\n",
    "    \n",
    "    n_steps = max([len(string) for string in all_strings])\n",
    "    X = np.array([string_to_one_hot_vectors(string, n_steps)\n",
    "                  for string in all_strings])\n",
    "    seq_length = np.array([len(string) for string in all_strings])\n",
    "    y = np.array([[1] for _ in range(len(good_strings))] +\n",
    "                 [[0] for _ in range(len(bad_strings))])\n",
    "    rnd_idx = np.random.permutation(size)\n",
    "    return X[rnd_idx], seq_length[rnd_idx], y[rnd_idx]"
   ]
  },
  {
   "cell_type": "code",
   "execution_count": 7,
   "metadata": {},
   "outputs": [],
   "source": [
    "# Training set\n",
    "\n",
    "X_train, l_train, y_train = generate_dataset(10000)"
   ]
  },
  {
   "cell_type": "code",
   "execution_count": 10,
   "metadata": {},
   "outputs": [],
   "source": [
    "# Build the model\n",
    "\n",
    "reset_graph()\n",
    "\n",
    "possible_chars = \"BEPSTVX\"\n",
    "n_inputs = len(possible_chars)\n",
    "n_neurons = 30\n",
    "n_outputs = 1\n",
    "\n",
    "learning_rate = 0.02\n",
    "momentum = 0.95\n",
    "\n",
    "# None for Steps forces the system to determine the Step-size at run-time and it is obviously the longest \n",
    "# length strength size\n",
    "X = tf.placeholder(tf.float32, [None, None, n_inputs], name=\"X\")\n",
    "seq_length = tf.placeholder(tf.int32, [None], name=\"seq_length\")\n",
    "y = tf.placeholder(tf.float32, [None, 1], name=\"y\")\n",
    "\n",
    "gru_cell = tf.nn.rnn_cell.GRUCell(num_units=n_neurons)\n",
    "\n",
    "# PASS THE SEQUENCE LENGTH HERE AND IT TAKES CARE OF APROPRIATELY PADDING THE STRING OR WEIGHTING IT TO ENSURE \n",
    "# THAT THE LOSS FUNCTIONS ARE APPROPRIATELY CALCULATED\n",
    "outputs, states = tf.nn.dynamic_rnn(gru_cell, X, dtype=tf.float32,\n",
    "                                    sequence_length=seq_length)\n",
    "\n",
    "logits = tf.layers.dense(states, n_outputs, name=\"logits\")\n",
    "y_pred = tf.cast(tf.greater(logits, 0.), tf.float32, name=\"y_pred\")\n",
    "y_proba = tf.nn.sigmoid(logits, name=\"y_proba\")\n",
    "\n",
    "xentropy = tf.nn.sigmoid_cross_entropy_with_logits(labels=y, logits=logits)\n",
    "loss = tf.reduce_mean(xentropy, name=\"loss\")\n",
    "optimizer = tf.train.MomentumOptimizer(learning_rate=learning_rate,\n",
    "                                       momentum=momentum,\n",
    "                                       use_nesterov=True)\n",
    "training_op = optimizer.minimize(loss)\n",
    "\n",
    "correct = tf.equal(y_pred, y, name=\"correct\")\n",
    "accuracy = tf.reduce_mean(tf.cast(correct, tf.float32), name=\"accuracy\")\n",
    "\n",
    "init = tf.global_variables_initializer()\n",
    "saver = tf.train.Saver()"
   ]
  },
  {
   "cell_type": "code",
   "execution_count": 11,
   "metadata": {},
   "outputs": [],
   "source": [
    "# Validation set\n",
    "\n",
    "X_val, l_val, y_val = generate_dataset(5000)"
   ]
  },
  {
   "cell_type": "code",
   "execution_count": 12,
   "metadata": {},
   "outputs": [
    {
     "name": "stdout",
     "output_type": "stream",
     "text": [
      "   0  Train loss: 0.6644, accuracy: 60.00%  Validation accuracy: 48.80%\n",
      "   1  Train loss: 0.6397, accuracy: 64.00%  Validation accuracy: 56.46%\n",
      "   2  Train loss: 0.5779, accuracy: 74.00%  Validation accuracy: 71.82%\n",
      "   3  Train loss: 0.4811, accuracy: 76.00%  Validation accuracy: 74.28%\n",
      "   4  Train loss: 0.4489, accuracy: 80.00%  Validation accuracy: 77.50%\n",
      "   5  Train loss: 0.4118, accuracy: 84.00%  Validation accuracy: 75.84%\n",
      "   6  Train loss: 0.6058, accuracy: 80.00%  Validation accuracy: 67.90%\n",
      "   7  Train loss: 0.3978, accuracy: 86.00%  Validation accuracy: 75.86%\n",
      "   8  Train loss: 0.2109, accuracy: 94.00%  Validation accuracy: 86.04%\n",
      "   9  Train loss: 0.0844, accuracy: 96.00%  Validation accuracy: 89.78%\n",
      "  10  Train loss: 0.0678, accuracy: 98.00%  Validation accuracy: 94.90%\n",
      "  11  Train loss: 0.1084, accuracy: 98.00%  Validation accuracy: 93.18%\n",
      "  12  Train loss: 0.0655, accuracy: 100.00%  Validation accuracy: 94.40%\n",
      "  13  Train loss: 0.0966, accuracy: 98.00%  Validation accuracy: 93.84%\n",
      "  14  Train loss: 0.0660, accuracy: 98.00%  Validation accuracy: 97.84%\n",
      "  15  Train loss: 0.0150, accuracy: 100.00%  Validation accuracy: 97.88%\n",
      "  16  Train loss: 0.0671, accuracy: 98.00%  Validation accuracy: 98.02%\n",
      "  17  Train loss: 0.0388, accuracy: 100.00%  Validation accuracy: 97.92%\n",
      "  18  Train loss: 0.0027, accuracy: 100.00%  Validation accuracy: 99.40%\n",
      "  19  Train loss: 0.0011, accuracy: 100.00%  Validation accuracy: 99.98%\n",
      "  20  Train loss: 0.0005, accuracy: 100.00%  Validation accuracy: 100.00%\n",
      "  21  Train loss: 0.0003, accuracy: 100.00%  Validation accuracy: 100.00%\n",
      "  22  Train loss: 0.0003, accuracy: 100.00%  Validation accuracy: 99.98%\n",
      "  23  Train loss: 0.0002, accuracy: 100.00%  Validation accuracy: 99.98%\n",
      "  24  Train loss: 0.0002, accuracy: 100.00%  Validation accuracy: 99.98%\n",
      "  25  Train loss: 0.0002, accuracy: 100.00%  Validation accuracy: 99.98%\n",
      "  26  Train loss: 0.0001, accuracy: 100.00%  Validation accuracy: 99.98%\n",
      "  27  Train loss: 0.0001, accuracy: 100.00%  Validation accuracy: 99.98%\n",
      "  28  Train loss: 0.0001, accuracy: 100.00%  Validation accuracy: 99.98%\n",
      "  29  Train loss: 0.0001, accuracy: 100.00%  Validation accuracy: 99.98%\n",
      "  30  Train loss: 0.0001, accuracy: 100.00%  Validation accuracy: 99.98%\n",
      "  31  Train loss: 0.0001, accuracy: 100.00%  Validation accuracy: 99.98%\n",
      "  32  Train loss: 0.0001, accuracy: 100.00%  Validation accuracy: 99.98%\n",
      "  33  Train loss: 0.0001, accuracy: 100.00%  Validation accuracy: 99.98%\n",
      "  34  Train loss: 0.0001, accuracy: 100.00%  Validation accuracy: 99.98%\n",
      "  35  Train loss: 0.0001, accuracy: 100.00%  Validation accuracy: 100.00%\n",
      "  36  Train loss: 0.0001, accuracy: 100.00%  Validation accuracy: 100.00%\n",
      "  37  Train loss: 0.0001, accuracy: 100.00%  Validation accuracy: 100.00%\n",
      "  38  Train loss: 0.0001, accuracy: 100.00%  Validation accuracy: 100.00%\n",
      "  39  Train loss: 0.0001, accuracy: 100.00%  Validation accuracy: 100.00%\n",
      "  40  Train loss: 0.0000, accuracy: 100.00%  Validation accuracy: 100.00%\n",
      "  41  Train loss: 0.0000, accuracy: 100.00%  Validation accuracy: 100.00%\n",
      "  42  Train loss: 0.0000, accuracy: 100.00%  Validation accuracy: 100.00%\n",
      "  43  Train loss: 0.0000, accuracy: 100.00%  Validation accuracy: 100.00%\n",
      "  44  Train loss: 0.0000, accuracy: 100.00%  Validation accuracy: 100.00%\n",
      "  45  Train loss: 0.0000, accuracy: 100.00%  Validation accuracy: 100.00%\n",
      "  46  Train loss: 0.0000, accuracy: 100.00%  Validation accuracy: 100.00%\n",
      "  47  Train loss: 0.0000, accuracy: 100.00%  Validation accuracy: 100.00%\n",
      "  48  Train loss: 0.0000, accuracy: 100.00%  Validation accuracy: 100.00%\n",
      "  49  Train loss: 0.0000, accuracy: 100.00%  Validation accuracy: 100.00%\n"
     ]
    }
   ],
   "source": [
    "# Training\n",
    "n_epochs = 50\n",
    "batch_size = 50\n",
    "\n",
    "with tf.Session() as sess:\n",
    "    init.run()\n",
    "    for epoch in range(n_epochs):\n",
    "        X_batches = np.array_split(X_train, len(X_train) // batch_size)\n",
    "        l_batches = np.array_split(l_train, len(l_train) // batch_size)\n",
    "        y_batches = np.array_split(y_train, len(y_train) // batch_size)\n",
    "        for X_batch, l_batch, y_batch in zip(X_batches, l_batches, y_batches):\n",
    "            loss_val, _ = sess.run(\n",
    "                [loss, training_op],\n",
    "                feed_dict={X: X_batch, seq_length: l_batch, y: y_batch})\n",
    "        acc_train = accuracy.eval(feed_dict={X: X_batch, seq_length: l_batch, y: y_batch})\n",
    "        acc_val = accuracy.eval(feed_dict={X: X_val, seq_length: l_val, y: y_val})\n",
    "        print(\"{:4d}  Train loss: {:.4f}, accuracy: {:.2f}%  Validation accuracy: {:.2f}%\".format(\n",
    "            epoch, loss_val, 100 * acc_train, 100 * acc_val))\n",
    "        saver.save(sess, \"./my_reber_classifier\")"
   ]
  },
  {
   "cell_type": "code",
   "execution_count": 13,
   "metadata": {},
   "outputs": [
    {
     "name": "stdout",
     "output_type": "stream",
     "text": [
      "INFO:tensorflow:Restoring parameters from ./my_reber_classifier\n",
      "\n",
      "Estimated probability that these are Reber strings:\n",
      "BPBTSSSSSSSXXTTVPXVPXTTTTTVVETE: 0.72%\n",
      "BPBTSSSSSSSXXTTVPXVPXTTTTTVVEPE: 99.99%\n"
     ]
    }
   ],
   "source": [
    "# Testing\n",
    "\n",
    "test_strings = [\n",
    "    \"BPBTSSSSSSSXXTTVPXVPXTTTTTVVETE\",\n",
    "    \"BPBTSSSSSSSXXTTVPXVPXTTTTTVVEPE\"]\n",
    "l_test = np.array([len(s) for s in test_strings])\n",
    "max_length = l_test.max()\n",
    "X_test = [string_to_one_hot_vectors(s, n_steps=max_length)\n",
    "          for s in test_strings]\n",
    "\n",
    "with tf.Session() as sess:\n",
    "    saver.restore(sess, \"./my_reber_classifier\")\n",
    "    y_proba_val = y_proba.eval(feed_dict={X: X_test, seq_length: l_test})\n",
    "\n",
    "print()\n",
    "print(\"Estimated probability that these are Reber strings:\")\n",
    "for index, string in enumerate(test_strings):\n",
    "    print(\"{}: {:.2f}%\".format(string, 100 * y_proba_val[index][0]))"
   ]
  }
 ],
 "metadata": {
  "kernelspec": {
   "display_name": "Python 3",
   "language": "python",
   "name": "python3"
  },
  "language_info": {
   "codemirror_mode": {
    "name": "ipython",
    "version": 3
   },
   "file_extension": ".py",
   "mimetype": "text/x-python",
   "name": "python",
   "nbconvert_exporter": "python",
   "pygments_lexer": "ipython3",
   "version": "3.6.0"
  }
 },
 "nbformat": 4,
 "nbformat_minor": 2
}
